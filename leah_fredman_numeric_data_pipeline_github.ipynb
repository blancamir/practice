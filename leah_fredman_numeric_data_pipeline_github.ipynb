{
 "cells": [
  {
   "cell_type": "markdown",
   "metadata": {},
   "source": [
    "Blog post related to this notebook: https://www.linkedin.com/pulse/pipeline-dreams-part-ii-creating-single-preprocessing-leah-fredman/\n",
    "\n",
    "Here I am analyzing a cancer dataset from UCI that has only numeric features.\n",
    "Althought it doesn't make that much sense to do here both PCA and Kmeans, I'm doing it just for practice sake.\n",
    "As you'll see my custom transformer for feature engineering is not very sensible either, but I wanted to practice various feature transformations.\n",
    "I'm not invested in the validity of this model, only in practicing data wrangling."
   ]
  },
  {
   "cell_type": "code",
   "execution_count": 3,
   "metadata": {},
   "outputs": [],
   "source": [
    "#importing the csv directly from the web as a pandas dataframe, and naming the columns since the headers with the CSV weren't what I wanted, so I instructed it to not import\n",
    "import pandas as pd\n",
    "df1 = pd.read_csv(\"https://archive.ics.uci.edu/ml/machine-learning-databases/breast-cancer-wisconsin/breast-cancer-wisconsin.data\", header = None, names=['ID', 'x1', 'x2', 'x3', 'x4', 'x5', 'x6', 'x7', 'x8', 'x9', 'y'], usecols=['ID', 'x1', 'x2', 'x3', 'x4', 'x5', 'x6', 'x7', 'x8', 'x9', 'y'])"
   ]
  },
  {
   "cell_type": "code",
   "execution_count": 4,
   "metadata": {},
   "outputs": [
    {
     "name": "stdout",
     "output_type": "stream",
     "text": [
      "        ID  x1  x2  x3  x4  x5  x6  x7  x8  x9  y\n",
      "0  1000025   5   1   1   1   2   1   3   1   1  2\n",
      "1  1002945   5   4   4   5   7  10   3   2   1  2\n",
      "2  1015425   3   1   1   1   2   2   3   1   1  2\n",
      "3  1016277   6   8   8   1   3   4   3   7   1  2\n",
      "4  1017023   4   1   1   3   2   1   3   1   1  2\n",
      "ID     int64\n",
      "x1     int64\n",
      "x2     int64\n",
      "x3     int64\n",
      "x4     int64\n",
      "x5     int64\n",
      "x6    object\n",
      "x7     int64\n",
      "x8     int64\n",
      "x9     int64\n",
      "y      int64\n",
      "dtype: object\n",
      "                 ID          x1          x2          x3          x4  \\\n",
      "count  6.990000e+02  699.000000  699.000000  699.000000  699.000000   \n",
      "mean   1.071704e+06    4.417740    3.134478    3.207439    2.806867   \n",
      "std    6.170957e+05    2.815741    3.051459    2.971913    2.855379   \n",
      "min    6.163400e+04    1.000000    1.000000    1.000000    1.000000   \n",
      "25%    8.706885e+05    2.000000    1.000000    1.000000    1.000000   \n",
      "50%    1.171710e+06    4.000000    1.000000    1.000000    1.000000   \n",
      "75%    1.238298e+06    6.000000    5.000000    5.000000    4.000000   \n",
      "max    1.345435e+07   10.000000   10.000000   10.000000   10.000000   \n",
      "\n",
      "               x5          x7          x8          x9           y  \n",
      "count  699.000000  699.000000  699.000000  699.000000  699.000000  \n",
      "mean     3.216023    3.437768    2.866953    1.589413    2.689557  \n",
      "std      2.214300    2.438364    3.053634    1.715078    0.951273  \n",
      "min      1.000000    1.000000    1.000000    1.000000    2.000000  \n",
      "25%      2.000000    2.000000    1.000000    1.000000    2.000000  \n",
      "50%      2.000000    3.000000    1.000000    1.000000    2.000000  \n",
      "75%      4.000000    5.000000    4.000000    1.000000    4.000000  \n",
      "max     10.000000   10.000000   10.000000   10.000000    4.000000  \n"
     ]
    }
   ],
   "source": [
    "#Checking the first 5 lines of the dataframe\n",
    "print(df1.head())\n",
    "#Checking variable types\n",
    "print(df1.dtypes)\n",
    "#Checking some descriptive stats for the numeric variable in the dataframe\n",
    "print(df1.describe())"
   ]
  },
  {
   "cell_type": "code",
   "execution_count": 5,
   "metadata": {},
   "outputs": [],
   "source": [
    "#Splitting the data and then cleaning the training dataframe\n",
    "from sklearn.model_selection import train_test_split\n",
    "\n",
    "df1_train_full, test_full = train_test_split(df1, test_size=0.2)"
   ]
  },
  {
   "cell_type": "code",
   "execution_count": 6,
   "metadata": {},
   "outputs": [
    {
     "name": "stdout",
     "output_type": "stream",
     "text": [
      "   distinct_id_sum  id_sum\n",
      "0              519     559\n"
     ]
    }
   ],
   "source": [
    "#using dfply to see whether IDs appear more than once and removing them if they do because its unclear where the issue is\n",
    "from dfply import *\n",
    "dup_id = (df1_train_full >>\n",
    "         summarize(distinct_id_sum = n_distinct(X.ID), id_sum = n(X.ID)) )\n",
    "print(dup_id)"
   ]
  },
  {
   "cell_type": "code",
   "execution_count": 7,
   "metadata": {},
   "outputs": [],
   "source": [
    "#There are some duplicates so I'll drop them with dfply\n",
    "df1_train_full = (df1_train_full >>\n",
    "     distinct(X.ID))\n",
    "\n",
    "\n",
    "#Removing the target\n",
    "df1_train = df1_train_full >> drop(X.y)"
   ]
  },
  {
   "cell_type": "code",
   "execution_count": 8,
   "metadata": {
    "scrolled": true
   },
   "outputs": [
    {
     "name": "stdout",
     "output_type": "stream",
     "text": [
      "     x6\n",
      "353  10\n",
      "649   1\n",
      "40    ?\n",
      "605   8\n",
      "696   3\n",
      "247   9\n",
      "427   2\n",
      "455   6\n",
      "403   4\n",
      "482   5\n",
      "359   7\n"
     ]
    }
   ],
   "source": [
    "#x6 was listed as dtype object above, while others are integer\n",
    "#Therefore electing and listing the distinct values of x6 to see which if any aren't numeric using the dfply package with piping\n",
    "print(df1_train >> select(X.x6) >> distinct(X.x6))\n",
    "#We see that 6 has a \"?\" in it, maybe more than one"
   ]
  },
  {
   "cell_type": "code",
   "execution_count": 9,
   "metadata": {},
   "outputs": [
    {
     "name": "stdout",
     "output_type": "stream",
     "text": [
      "1     278\n",
      "10    106\n",
      "3      26\n",
      "2      25\n",
      "5      18\n",
      "4      17\n",
      "8      16\n",
      "?      12\n",
      "9       9\n",
      "7       8\n",
      "6       4\n",
      "Name: x6, dtype: int64\n"
     ]
    }
   ],
   "source": [
    "#To see how many times each of these values appears:\n",
    "print(df1_train[\"x6\"].value_counts())\n",
    "#We see there are 16 \"?\" in the dataframe, and considering the size of it, it's not that bad, so I'll probably convert them and impute their values"
   ]
  },
  {
   "cell_type": "code",
   "execution_count": 10,
   "metadata": {},
   "outputs": [],
   "source": [
    "#Cleaning data so that it's all numeric and all \"?\" become NaNs\n",
    "#Making it float32 because I don't need 64 and it takes up less space this way\n",
    "import numpy as np\n",
    "df1_train = df1_train.apply(pd.to_numeric, errors = 'coerce').astype(np.float32)"
   ]
  },
  {
   "cell_type": "code",
   "execution_count": 11,
   "metadata": {},
   "outputs": [
    {
     "name": "stdout",
     "output_type": "stream",
     "text": [
      "            ID    x1   x2    x3    x4    x5    x6   x7   x8   x9\n",
      "353   850831.0   2.0  7.0  10.0  10.0   7.0  10.0  4.0  9.0  4.0\n",
      "649  1318671.0   3.0  1.0   1.0   1.0   2.0   1.0  2.0  1.0  1.0\n",
      "600  1336798.0   3.0  1.0   1.0   1.0   2.0   1.0  2.0  1.0  1.0\n",
      "201  1216694.0  10.0  8.0   8.0   4.0  10.0  10.0  8.0  1.0  1.0\n",
      "40   1096800.0   6.0  6.0   6.0   9.0   6.0   NaN  7.0  8.0  1.0\n",
      "ID    float32\n",
      "x1    float32\n",
      "x2    float32\n",
      "x3    float32\n",
      "x4    float32\n",
      "x5    float32\n",
      "x6    float32\n",
      "x7    float32\n",
      "x8    float32\n",
      "x9    float32\n",
      "dtype: object\n",
      "                 ID          x1          x2          x3          x4  \\\n",
      "count  5.190000e+02  519.000000  519.000000  519.000000  519.000000   \n",
      "mean   1.069882e+06    4.556840    3.277457    3.352601    3.000000   \n",
      "std    6.168626e+05    2.892565    3.068727    3.002723    2.993558   \n",
      "min    6.163400e+04    1.000000    1.000000    1.000000    1.000000   \n",
      "25%    8.680765e+05    2.000000    1.000000    1.000000    1.000000   \n",
      "50%    1.170945e+06    4.000000    1.000000    2.000000    1.000000   \n",
      "75%    1.236440e+06    6.000000    5.000000    5.000000    4.000000   \n",
      "max    1.345435e+07   10.000000   10.000000   10.000000   10.000000   \n",
      "\n",
      "               x5          x6          x7          x8          x9  \n",
      "count  519.000000  507.000000  519.000000  519.000000  519.000000  \n",
      "mean     3.373796    3.773175    3.576108    3.094412    1.678227  \n",
      "std      2.315583    3.720710    2.512033    3.201828    1.851256  \n",
      "min      1.000000    1.000000    1.000000    1.000000    1.000000  \n",
      "25%      2.000000    1.000000    2.000000    1.000000    1.000000  \n",
      "50%      2.000000    1.000000    3.000000    1.000000    1.000000  \n",
      "75%      4.000000    8.000000    5.000000    5.000000    1.000000  \n",
      "max     10.000000   10.000000   10.000000   10.000000   10.000000  \n"
     ]
    }
   ],
   "source": [
    "#Checking the first 5 lines of the dataframe\n",
    "print(df1_train.head())\n",
    "#Checking variable types\n",
    "print(df1_train.dtypes)\n",
    "#Checking some descriptive stats for the numeric variable in the dataframe\n",
    "print(df1_train.describe())\n",
    "#Every column has a count of 516 except x6, which means its the the only one with NAs"
   ]
  },
  {
   "cell_type": "code",
   "execution_count": 12,
   "metadata": {},
   "outputs": [
    {
     "data": {
      "text/plain": [
       "ID     0\n",
       "x1     0\n",
       "x2     0\n",
       "x3     0\n",
       "x4     0\n",
       "x5     0\n",
       "x6    12\n",
       "x7     0\n",
       "x8     0\n",
       "x9     0\n",
       "dtype: int64"
      ]
     },
     "execution_count": 12,
     "metadata": {},
     "output_type": "execute_result"
    }
   ],
   "source": [
    "#Seeing whether any columns have null values. It seems that only x6 does\n",
    "df1_train.isnull().sum()"
   ]
  },
  {
   "cell_type": "code",
   "execution_count": 13,
   "metadata": {},
   "outputs": [
    {
     "data": {
      "text/plain": [
       "<function matplotlib.pyplot.show(*args, **kw)>"
      ]
     },
     "execution_count": 13,
     "metadata": {},
     "output_type": "execute_result"
    },
    {
     "data": {
      "image/png": "[encoded data removed]",
      "text/plain": [
       "<Figure size 1440x1080 with 12 Axes>"
      ]
     },
     "metadata": {},
     "output_type": "display_data"
    }
   ],
   "source": [
    "#histogram plot\n",
    "%matplotlib inline\n",
    "import matplotlib.pyplot as plt\n",
    "df1_train.hist(bins = 10, figsize = (20, 15))\n",
    "plt.show\n",
    "#Seeing all the variables that are mostly a single value, and then the other values are very small and pretty equally spread out, it might pay to dichotomize those, which could be done very easily with dfply, mutate, and an if else statement, but for now I'm skipping it\n",
    "#Additionally, you can clearly see that the classes are very imbalanced"
   ]
  },
  {
   "cell_type": "code",
   "execution_count": 14,
   "metadata": {},
   "outputs": [
    {
     "data": {
      "text/plain": [
       "<matplotlib.axes._subplots.AxesSubplot at 0x298bd832358>"
      ]
     },
     "execution_count": 14,
     "metadata": {},
     "output_type": "execute_result"
    },
    {
     "data": {
      "image/png": "[encoded data removed]",
      "text/plain": [
       "<Figure size 1800x720 with 2 Axes>"
      ]
     },
     "metadata": {},
     "output_type": "display_data"
    }
   ],
   "source": [
    "#white lines indicate where missing data is\n",
    "#https://towardsdatascience.com/working-with-missing-data-in-machine-learning-9c0a430df4ce\n",
    "import missingno as msno\n",
    "\n",
    "msno.matrix(df1_train)"
   ]
  },
  {
   "cell_type": "code",
   "execution_count": 15,
   "metadata": {},
   "outputs": [
    {
     "data": {
      "text/html": [
       "<div>\n",
       "<style scoped>\n",
       "    .dataframe tbody tr th:only-of-type {\n",
       "        vertical-align: middle;\n",
       "    }\n",
       "\n",
       "    .dataframe tbody tr th {\n",
       "        vertical-align: top;\n",
       "    }\n",
       "\n",
       "    .dataframe thead th {\n",
       "        text-align: right;\n",
       "    }\n",
       "</style>\n",
       "<table border=\"1\" class=\"dataframe\">\n",
       "  <thead>\n",
       "    <tr style=\"text-align: right;\">\n",
       "      <th></th>\n",
       "      <th>Total</th>\n",
       "      <th>Percent</th>\n",
       "    </tr>\n",
       "  </thead>\n",
       "  <tbody>\n",
       "    <tr>\n",
       "      <th>x6</th>\n",
       "      <td>12</td>\n",
       "      <td>2.312139</td>\n",
       "    </tr>\n",
       "    <tr>\n",
       "      <th>x9</th>\n",
       "      <td>0</td>\n",
       "      <td>0.000000</td>\n",
       "    </tr>\n",
       "    <tr>\n",
       "      <th>x8</th>\n",
       "      <td>0</td>\n",
       "      <td>0.000000</td>\n",
       "    </tr>\n",
       "    <tr>\n",
       "      <th>x7</th>\n",
       "      <td>0</td>\n",
       "      <td>0.000000</td>\n",
       "    </tr>\n",
       "    <tr>\n",
       "      <th>x5</th>\n",
       "      <td>0</td>\n",
       "      <td>0.000000</td>\n",
       "    </tr>\n",
       "  </tbody>\n",
       "</table>\n",
       "</div>"
      ],
      "text/plain": [
       "    Total   Percent\n",
       "x6     12  2.312139\n",
       "x9      0  0.000000\n",
       "x8      0  0.000000\n",
       "x7      0  0.000000\n",
       "x5      0  0.000000"
      ]
     },
     "execution_count": 15,
     "metadata": {},
     "output_type": "execute_result"
    },
    {
     "data": {
      "image/png": "[encoded data removed]",
      "text/plain": [
       "<Figure size 1080x432 with 1 Axes>"
      ]
     },
     "metadata": {},
     "output_type": "display_data"
    }
   ],
   "source": [
    "#Getting the number of missing values per column, as well as what percentage that number represents\n",
    "#Plotting these findings\n",
    "import seaborn as sns\n",
    "total = df1_train.isnull().sum().sort_values(ascending=False)\n",
    "percent = (df1_train.isnull().sum()/df1_train.isnull().count() * 100).sort_values(ascending=False)\n",
    "missing_data = pd.concat([total, percent], axis=1, keys=['Total', 'Percent'])\n",
    "f, ax = plt.subplots(figsize=(15, 6))\n",
    "plt.xticks(rotation='90')\n",
    "sns.barplot(x=missing_data.index, y=missing_data['Percent'])\n",
    "plt.xlabel('Features', fontsize=15)\n",
    "plt.ylabel('Percent of missing values', fontsize=15)\n",
    "plt.title('Percent missing data by feature', fontsize=15)\n",
    "missing_data.head()"
   ]
  },
  {
   "cell_type": "code",
   "execution_count": 40,
   "metadata": {},
   "outputs": [],
   "source": [
    "#Before we do anything else like feature engineering or dimension reduction we want to first deal with the missing data, so that's our first step in our pipeline\n",
    "from sklearn.impute import SimpleImputer\n",
    "from sklearn.pipeline import Pipeline\n",
    "#As I keep adding data cleaning steps they will continue to go into this pipeline\n",
    "#I'll creat a dataset with only the numeric features, and w/o the targets (which I've previously removed)\n",
    "df_train_x = df1_train >> drop(X.ID)\n",
    "\n",
    "#Naming my pipeline numeric_pipe, and then defining it with calling the Imputer \"imputer\", and specifying that I want the mean (I could choose something else, like the median):\n",
    "# code looks like this:\n",
    "                  #numeric_pipe1 = Pipeline([('imputer', Imputer(strategy=\"mean\"))])\n",
    "\n",
    "#We now fit (aka train) the pipeline on the data, and then transform it every step of the way after each fitting, and save the result:\n",
    "# code looks like this:\n",
    "                  #train_df_tr1 = numeric_pipe1.fit_transform(df_train_x)"
   ]
  },
  {
   "cell_type": "code",
   "execution_count": 17,
   "metadata": {},
   "outputs": [],
   "source": [
    "#If we want to feature engineer we can do it now after we've handled missing data\n",
    "#With this dataset there it does not really make sense to engineer anything other than what I discussed above, since it would be random, \n",
    "#but I want to do so for practice purposes\n",
    "#For practice I am going to dichotomize x9 into score of 1 or score above one\n",
    "#and create a ratio of x7 to x3\n",
    "#For this I create a custom transformer:\n",
    "from sklearn.base import BaseEstimator, TransformerMixin\n",
    "\n",
    "x3_ix, x7_ix, x9_ix = 2, 6, 8\n",
    "\n",
    "class CombinedAttributesAdder1(BaseEstimator, TransformerMixin):\n",
    "    def __init__(self, add_x3_to_x7 = True): # no *args or **kargs\n",
    "        self.add_x3_to_x7 = add_x3_to_x7\n",
    "    def fit(self, X, y=None):\n",
    "        return self # nothing else to do\n",
    "    def transform(self, X, y=None):\n",
    "        lambda_x9 = lambda x: 0 if x < 2 else 1 #using .apply and then a lambda doesn't work with np arrays, only pandas dataframes\n",
    "        vlambda = np.vectorize(lambda_x9) #this is a good substitute to the .apply\n",
    "        x9_dich = vlambda(X[:, x9_ix])\n",
    "        if self.add_x3_to_x7:\n",
    "            x3_to_x7 = X[:, x3_ix] / X[:, x7_ix]\n",
    "            return np.c_[X, x9_dich, x3_to_x7]\n",
    "        else:\n",
    "            return np.c_[X, x9_dich]"
   ]
  },
  {
   "cell_type": "code",
   "execution_count": 18,
   "metadata": {},
   "outputs": [],
   "source": [
    "attr_adder1 = CombinedAttributesAdder1(add_x3_to_x7=False)\n",
    "df_extra_attribs1 = attr_adder1.transform(df_train_x.values)"
   ]
  },
  {
   "cell_type": "code",
   "execution_count": 19,
   "metadata": {},
   "outputs": [],
   "source": [
    "#So now our pipeline is as follows\n",
    "# code looks like this:\n",
    "                  #numeric_pipe = Pipeline([('imputer', Imputer(strategy=\"mean\")),\n",
    "    #                       ('attribs_adder1', CombinedAttributesAdder1())])\n"
   ]
  },
  {
   "cell_type": "code",
   "execution_count": 20,
   "metadata": {},
   "outputs": [],
   "source": [
    "#The features are all on the same scale, so feature scaling isn't really necessary but I'm doing it anyways\n",
    "\n",
    "from sklearn.preprocessing import StandardScaler"
   ]
  },
  {
   "cell_type": "code",
   "execution_count": 21,
   "metadata": {},
   "outputs": [],
   "source": [
    "#So now our pipeline is as follows\n",
    "# code looks like this:\n",
    "                  #numeric_pipe = Pipeline([('imputer', Imputer(strategy=\"mean\")),\n",
    "    #                       ('attribs_adder1', CombinedAttributesAdder1()),\n",
    "    #                        ('std_scaler', StandardScaler())])"
   ]
  },
  {
   "cell_type": "code",
   "execution_count": 42,
   "metadata": {},
   "outputs": [
    {
     "data": {
      "text/html": [
       "<div>\n",
       "<style scoped>\n",
       "    .dataframe tbody tr th:only-of-type {\n",
       "        vertical-align: middle;\n",
       "    }\n",
       "\n",
       "    .dataframe tbody tr th {\n",
       "        vertical-align: top;\n",
       "    }\n",
       "\n",
       "    .dataframe thead th {\n",
       "        text-align: right;\n",
       "    }\n",
       "</style>\n",
       "<table border=\"1\" class=\"dataframe\">\n",
       "  <thead>\n",
       "    <tr style=\"text-align: right;\">\n",
       "      <th></th>\n",
       "      <th>0</th>\n",
       "      <th>1</th>\n",
       "      <th>2</th>\n",
       "      <th>3</th>\n",
       "      <th>4</th>\n",
       "      <th>5</th>\n",
       "      <th>6</th>\n",
       "      <th>7</th>\n",
       "      <th>8</th>\n",
       "      <th>9</th>\n",
       "      <th>10</th>\n",
       "    </tr>\n",
       "  </thead>\n",
       "  <tbody>\n",
       "    <tr>\n",
       "      <th>0</th>\n",
       "      <td>-0.884788</td>\n",
       "      <td>1.214229</td>\n",
       "      <td>2.215924</td>\n",
       "      <td>2.340611</td>\n",
       "      <td>1.567510</td>\n",
       "      <td>1.694919</td>\n",
       "      <td>0.168907</td>\n",
       "      <td>1.846223</td>\n",
       "      <td>1.255370</td>\n",
       "      <td>2.046949</td>\n",
       "      <td>2.252880</td>\n",
       "    </tr>\n",
       "    <tr>\n",
       "      <th>1</th>\n",
       "      <td>-0.538740</td>\n",
       "      <td>-0.742867</td>\n",
       "      <td>-0.784245</td>\n",
       "      <td>-0.668746</td>\n",
       "      <td>-0.593855</td>\n",
       "      <td>-0.754848</td>\n",
       "      <td>-0.628028</td>\n",
       "      <td>-0.654762</td>\n",
       "      <td>-0.366714</td>\n",
       "      <td>-0.488532</td>\n",
       "      <td>-0.720010</td>\n",
       "    </tr>\n",
       "    <tr>\n",
       "      <th>2</th>\n",
       "      <td>-0.538740</td>\n",
       "      <td>-0.742867</td>\n",
       "      <td>-0.784245</td>\n",
       "      <td>-0.668746</td>\n",
       "      <td>-0.593855</td>\n",
       "      <td>-0.754848</td>\n",
       "      <td>-0.628028</td>\n",
       "      <td>-0.654762</td>\n",
       "      <td>-0.366714</td>\n",
       "      <td>-0.488532</td>\n",
       "      <td>-0.720010</td>\n",
       "    </tr>\n",
       "    <tr>\n",
       "      <th>3</th>\n",
       "      <td>1.883591</td>\n",
       "      <td>1.540411</td>\n",
       "      <td>1.549220</td>\n",
       "      <td>0.334373</td>\n",
       "      <td>2.864328</td>\n",
       "      <td>1.694919</td>\n",
       "      <td>1.762779</td>\n",
       "      <td>-0.654762</td>\n",
       "      <td>-0.366714</td>\n",
       "      <td>-0.488532</td>\n",
       "      <td>0.023212</td>\n",
       "    </tr>\n",
       "    <tr>\n",
       "      <th>4</th>\n",
       "      <td>0.499402</td>\n",
       "      <td>0.888046</td>\n",
       "      <td>0.882516</td>\n",
       "      <td>2.006238</td>\n",
       "      <td>1.135237</td>\n",
       "      <td>0.000000</td>\n",
       "      <td>1.364311</td>\n",
       "      <td>1.533600</td>\n",
       "      <td>-0.366714</td>\n",
       "      <td>-0.488532</td>\n",
       "      <td>-0.189137</td>\n",
       "    </tr>\n",
       "  </tbody>\n",
       "</table>\n",
       "</div>"
      ],
      "text/plain": [
       "         0         1         2         3         4         5         6   \\\n",
       "0 -0.884788  1.214229  2.215924  2.340611  1.567510  1.694919  0.168907   \n",
       "1 -0.538740 -0.742867 -0.784245 -0.668746 -0.593855 -0.754848 -0.628028   \n",
       "2 -0.538740 -0.742867 -0.784245 -0.668746 -0.593855 -0.754848 -0.628028   \n",
       "3  1.883591  1.540411  1.549220  0.334373  2.864328  1.694919  1.762779   \n",
       "4  0.499402  0.888046  0.882516  2.006238  1.135237  0.000000  1.364311   \n",
       "\n",
       "         7         8         9         10  \n",
       "0  1.846223  1.255370  2.046949  2.252880  \n",
       "1 -0.654762 -0.366714 -0.488532 -0.720010  \n",
       "2 -0.654762 -0.366714 -0.488532 -0.720010  \n",
       "3 -0.654762 -0.366714 -0.488532  0.023212  \n",
       "4  1.533600 -0.366714 -0.488532 -0.189137  "
      ]
     },
     "execution_count": 42,
     "metadata": {},
     "output_type": "execute_result"
    }
   ],
   "source": [
    "#######################Playing around with PCA############################\n",
    "#PCA is affected by scale so scale the features first\n",
    "\n",
    "#To determine how many components we want, we'll examine a scree plot\n",
    "#This means we need a copy of the imputed and standardized data first:\n",
    "numeric_pipe = Pipeline([('imputer', SimpleImputer(strategy=\"mean\")),\n",
    "                         ('attribs_adder1', CombinedAttributesAdder1()),\n",
    "                         ('std_scaler', StandardScaler())])\n",
    "train_df_tr = numeric_pipe.fit_transform(df_train_x)\n",
    "train_df_tr_pd = pd.DataFrame(train_df_tr)\n",
    "train_df_tr_pd.head()"
   ]
  },
  {
   "cell_type": "code",
   "execution_count": 23,
   "metadata": {},
   "outputs": [
    {
     "name": "stdout",
     "output_type": "stream",
     "text": [
      "Covariance matrix \n",
      "          0         1         2         3         4         5         6   \\\n",
      "0   1.001931  0.654763  0.656747  0.485396  0.539140  0.590152  0.575114   \n",
      "1   0.654763  1.001931  0.906861  0.684509  0.766019  0.670673  0.763791   \n",
      "2   0.656747  0.906861  1.001931  0.673733  0.735126  0.694337  0.743790   \n",
      "3   0.485396  0.684509  0.673733  1.001931  0.588207  0.667062  0.661554   \n",
      "4   0.539140  0.766019  0.735126  0.588207  1.001931  0.563309  0.607265   \n",
      "5   0.590152  0.670673  0.694337  0.667062  0.563309  1.001931  0.691790   \n",
      "6   0.575114  0.763791  0.743790  0.661554  0.607265  0.691790  1.001931   \n",
      "7   0.547327  0.734555  0.713747  0.584415  0.625520  0.569414  0.678588   \n",
      "8   0.376015  0.483586  0.455088  0.411847  0.487500  0.356244  0.351129   \n",
      "9   0.459559  0.511312  0.467866  0.454995  0.456224  0.449906  0.406442   \n",
      "10  0.290070  0.346775  0.489693  0.178291  0.304844  0.201330 -0.099498   \n",
      "\n",
      "          7         8         9         10  \n",
      "0   0.547327  0.376015  0.459559  0.290070  \n",
      "1   0.734555  0.483586  0.511312  0.346775  \n",
      "2   0.713747  0.455088  0.467866  0.489693  \n",
      "3   0.584415  0.411847  0.454995  0.178291  \n",
      "4   0.625520  0.487500  0.456224  0.304844  \n",
      "5   0.569414  0.356244  0.449906  0.201330  \n",
      "6   0.678588  0.351129  0.406442 -0.099498  \n",
      "7   1.001931  0.432298  0.496644  0.221928  \n",
      "8   0.432298  1.001931  0.752094  0.218087  \n",
      "9   0.496644  0.752094  1.001931  0.204551  \n",
      "10  0.221928  0.218087  0.204551  1.001931  \n",
      "NumPy covariance matrix: \n",
      "[[ 1.0019305   0.6547632   0.65674722  0.48539649  0.53914026  0.59015248\n",
      "   0.57511445  0.54732678  0.3760153   0.45955928  0.29007024]\n",
      " [ 0.6547632   1.0019305   0.90686068  0.68450881  0.76601936  0.67067295\n",
      "   0.76379116  0.73455521  0.48358636  0.5113124   0.34677505]\n",
      " [ 0.65674722  0.90686068  1.0019305   0.67373269  0.73512643  0.69433734\n",
      "   0.74379006  0.71374688  0.45508761  0.46786644  0.48969314]\n",
      " [ 0.48539649  0.68450881  0.67373269  1.0019305   0.58820659  0.66706235\n",
      "   0.66155439  0.58441458  0.41184668  0.45499486  0.17829092]\n",
      " [ 0.53914026  0.76601936  0.73512643  0.58820659  1.0019305   0.56330881\n",
      "   0.60726477  0.62552007  0.48749993  0.45622429  0.30484408]\n",
      " [ 0.59015248  0.67067295  0.69433734  0.66706235  0.56330881  1.0019305\n",
      "   0.69179011  0.56941397  0.35624401  0.44990551  0.20133016]\n",
      " [ 0.57511445  0.76379116  0.74379006  0.66155439  0.60726477  0.69179011\n",
      "   1.0019305   0.67858825  0.35112859  0.40644245 -0.09949789]\n",
      " [ 0.54732678  0.73455521  0.71374688  0.58441458  0.62552007  0.56941397\n",
      "   0.67858825  1.0019305   0.43229781  0.49664385  0.22192839]\n",
      " [ 0.3760153   0.48358636  0.45508761  0.41184668  0.48749993  0.35624401\n",
      "   0.35112859  0.43229781  1.0019305   0.752094    0.2180867 ]\n",
      " [ 0.45955928  0.5113124   0.46786644  0.45499486  0.45622429  0.44990551\n",
      "   0.40644245  0.49664385  0.752094    1.0019305   0.20455113]\n",
      " [ 0.29007024  0.34677505  0.48969314  0.17829092  0.30484408  0.20133016\n",
      "  -0.09949789  0.22192839  0.2180867   0.20455113  1.0019305 ]]\n",
      "Eigenvectors \n",
      "[[-0.29499151 -0.01035174  0.11382733  0.76197717  0.34474765 -0.02225441\n",
      "  -0.00646185 -0.17698113 -0.12132922 -0.38006312 -0.09709767]\n",
      " [-0.36394385  0.03498729  0.14028129 -0.15104053  0.14249458  0.29526658\n",
      "  -0.7510082  -0.0579113   0.19727769  0.02493289  0.33080878]\n",
      " [-0.36127394 -0.03933199  0.26161103 -0.09662614  0.04186656 -0.76108372\n",
      "   0.15194655  0.01112573  0.06898803  0.11409458  0.41008231]\n",
      " [-0.30997717  0.17036215 -0.00576385 -0.16415763 -0.63723929 -0.01131325\n",
      "   0.00760598  0.02367535 -0.01972589 -0.66076178 -0.06398777]\n",
      " [-0.32122282 -0.03404366  0.07804513 -0.39924308  0.2229661  -0.00636155\n",
      "   0.13301501 -0.60307965  0.11519376  0.05349089 -0.53187175]\n",
      " [-0.31300781  0.1915365   0.07498656  0.33042989 -0.48825694 -0.00694024\n",
      "  -0.13936895 -0.00149943 -0.1918679   0.61542963 -0.27766364]\n",
      " [-0.31959995  0.45563375 -0.0643956  -0.0193101   0.11242953  0.45236657\n",
      "   0.55459783  0.00203137  0.07006296  0.12466865  0.37473216]\n",
      " [-0.3199547   0.08753283  0.00655607 -0.22369102  0.3508637  -0.02615236\n",
      "  -0.02369187  0.71743874 -0.24534655 -0.04088811 -0.37276084]\n",
      " [-0.2449874  -0.38253857 -0.5588088  -0.10784625  0.00171059  0.0307612\n",
      "  -0.01143837 -0.17600284 -0.61612318  0.03465036  0.23849926]\n",
      " [-0.26257603 -0.31175692 -0.54514223  0.17224817 -0.06288982 -0.04196557\n",
      "   0.06515734  0.18921898  0.6681442   0.06376319 -0.10374977]\n",
      " [-0.13885983 -0.68663018  0.52301035 -0.00186389 -0.15876123  0.35331362\n",
      "   0.25132895  0.13938812 -0.00108886  0.03480328  0.04324638]]\n",
      "\n",
      "Eigenvalues \n",
      "[6.41200039 1.18350991 1.04422046 0.53242546 0.49701868 0.05431829\n",
      " 0.11202853 0.38094485 0.22016478 0.30649755 0.27810663]\n",
      "Eigenvectors \n",
      "[[-0.29499151 -0.01035174  0.11382733  0.76197717  0.34474765 -0.02225441\n",
      "  -0.00646185 -0.17698113 -0.12132922 -0.38006312 -0.09709767]\n",
      " [-0.36394385  0.03498729  0.14028129 -0.15104053  0.14249458  0.29526658\n",
      "  -0.7510082  -0.0579113   0.19727769  0.02493289  0.33080878]\n",
      " [-0.36127394 -0.03933199  0.26161103 -0.09662614  0.04186656 -0.76108372\n",
      "   0.15194655  0.01112573  0.06898803  0.11409458  0.41008231]\n",
      " [-0.30997717  0.17036215 -0.00576385 -0.16415763 -0.63723929 -0.01131325\n",
      "   0.00760598  0.02367535 -0.01972589 -0.66076178 -0.06398777]\n",
      " [-0.32122282 -0.03404366  0.07804513 -0.39924308  0.2229661  -0.00636155\n",
      "   0.13301501 -0.60307965  0.11519376  0.05349089 -0.53187175]\n",
      " [-0.31300781  0.1915365   0.07498656  0.33042989 -0.48825694 -0.00694024\n",
      "  -0.13936895 -0.00149943 -0.1918679   0.61542963 -0.27766364]\n",
      " [-0.31959995  0.45563375 -0.0643956  -0.0193101   0.11242953  0.45236657\n",
      "   0.55459783  0.00203137  0.07006296  0.12466865  0.37473216]\n",
      " [-0.3199547   0.08753283  0.00655607 -0.22369102  0.3508637  -0.02615236\n",
      "  -0.02369187  0.71743874 -0.24534655 -0.04088811 -0.37276084]\n",
      " [-0.2449874  -0.38253857 -0.5588088  -0.10784625  0.00171059  0.0307612\n",
      "  -0.01143837 -0.17600284 -0.61612318  0.03465036  0.23849926]\n",
      " [-0.26257603 -0.31175692 -0.54514223  0.17224817 -0.06288982 -0.04196557\n",
      "   0.06515734  0.18921898  0.6681442   0.06376319 -0.10374977]\n",
      " [-0.13885983 -0.68663018  0.52301035 -0.00186389 -0.15876123  0.35331362\n",
      "   0.25132895  0.13938812 -0.00108886  0.03480328  0.04324638]]\n",
      "\n",
      "Eigenvalues \n",
      "[6.39964586 1.18122955 1.04220847 0.53139959 0.49606103 0.05421363\n",
      " 0.11181267 0.38021085 0.21974057 0.305907   0.27757078]\n",
      "Eigenvectors \n",
      "[[-0.29499151 -0.01035174  0.11382733  0.76197717  0.34474765 -0.02225441\n",
      "  -0.00646185 -0.17698113 -0.12132922 -0.38006312 -0.09709767]\n",
      " [-0.36394385  0.03498729  0.14028129 -0.15104053  0.14249458  0.29526658\n",
      "  -0.7510082  -0.0579113   0.19727769  0.02493289  0.33080878]\n",
      " [-0.36127394 -0.03933199  0.26161103 -0.09662614  0.04186656 -0.76108372\n",
      "   0.15194655  0.01112573  0.06898803  0.11409458  0.41008231]\n",
      " [-0.30997717  0.17036215 -0.00576385 -0.16415763 -0.63723929 -0.01131325\n",
      "   0.00760598  0.02367535 -0.01972589 -0.66076178 -0.06398777]\n",
      " [-0.32122282 -0.03404366  0.07804513 -0.39924308  0.2229661  -0.00636155\n",
      "   0.13301501 -0.60307965  0.11519376  0.05349089 -0.53187175]\n",
      " [-0.31300781  0.1915365   0.07498656  0.33042989 -0.48825694 -0.00694024\n",
      "  -0.13936895 -0.00149943 -0.1918679   0.61542963 -0.27766364]\n",
      " [-0.31959995  0.45563375 -0.0643956  -0.0193101   0.11242953  0.45236657\n",
      "   0.55459783  0.00203137  0.07006296  0.12466865  0.37473216]\n",
      " [-0.3199547   0.08753283  0.00655607 -0.22369102  0.3508637  -0.02615236\n",
      "  -0.02369187  0.71743874 -0.24534655 -0.04088811 -0.37276084]\n",
      " [-0.2449874  -0.38253857 -0.5588088  -0.10784625  0.00171059  0.0307612\n",
      "  -0.01143837 -0.17600284 -0.61612318  0.03465036  0.23849926]\n",
      " [-0.26257603 -0.31175692 -0.54514223  0.17224817 -0.06288982 -0.04196557\n",
      "   0.06515734  0.18921898  0.6681442   0.06376319 -0.10374977]\n",
      " [-0.13885983 -0.68663018  0.52301035 -0.00186389 -0.15876123  0.35331362\n",
      "   0.25132895  0.13938812 -0.00108886  0.03480328  0.04324638]]\n",
      "\n",
      "Eigenvalues \n",
      "[6.39964586 1.18122955 1.04220847 0.53139959 0.49606103 0.05421363\n",
      " 0.11181267 0.38021085 0.21974057 0.305907   0.27757078]\n",
      "Eigenvalues in descending order:\n",
      "6.399645860110558\n",
      "1.181229548325063\n",
      "1.042208471889873\n",
      "0.5313995883472646\n",
      "0.4960610338486998\n",
      "0.38021085251039555\n",
      "0.30590700029884144\n",
      "0.277570775610318\n",
      "0.2197405684158497\n",
      "0.11181267339304984\n",
      "0.054213627250094064\n"
     ]
    }
   ],
   "source": [
    "#############This is great to learn about PCA, but you don't need to actually run it for our purposes/pipeline\n",
    "#Deciding what size we want the new dimension to be\n",
    "#\"https://plot.ly/ipython-notebooks/principal-component-analysis/\"\n",
    "#Computing eigenvectors (the principal components) of a dataset that determine directions of new feature space\n",
    "#collecting them in a projection matrix. \n",
    "#Each eigenvectors is associated with an eigenvalue which can be interpreted as length/magnitude of corresponding eigenvector\n",
    "#If some eigenvalues have a significantly larger magnitude than others that the reduction of the dataset via PCA by dropping \"less informative\" eigenpairs is reasonable\n",
    "#the eigenvalues explain the variance of the data along the new feature axes.\n",
    "import numpy as np\n",
    "#manually computing covatiance matrix:\n",
    "mean_vec = np.mean(train_df_tr_pd, axis=0)\n",
    "cov_mat = (train_df_tr_pd - mean_vec).T.dot((train_df_tr_pd - mean_vec)) / (train_df_tr_pd.shape[0]-1)\n",
    "print('Covariance matrix \\n%s' %cov_mat)\n",
    "\n",
    "#Using numpy cov function to compute covariance matrix:\n",
    "print('NumPy covariance matrix: \\n%s' %np.cov(train_df_tr_pd.T))\n",
    "\n",
    "#Eigendecomposition on the covariance matrix:\n",
    "cov_mat = np.cov(train_df_tr_pd.T)\n",
    "\n",
    "eig_vals, eig_vecs = np.linalg.eig(cov_mat)\n",
    "\n",
    "print('Eigenvectors \\n%s' %eig_vecs)\n",
    "print('\\nEigenvalues \\n%s' %eig_vals)\n",
    "\n",
    "#Especially, in the field of \"Finance,\" the correlation matrix typically used instead of the covariance matrix. However, the eigendecomposition of the covariance matrix (if the input data was standardized) yields the same results as a eigendecomposition on the correlation matrix, since the correlation matrix can be understood as the normalized covariance matrix. Eigendecomposition of the standardized data based on the correlation matrix:\n",
    "cor_mat1 = np.corrcoef(train_df_tr_pd.T)\n",
    "\n",
    "eig_vals, eig_vecs = np.linalg.eig(cor_mat1)\n",
    "\n",
    "print('Eigenvectors \\n%s' %eig_vecs)\n",
    "print('\\nEigenvalues \\n%s' %eig_vals)\n",
    "\n",
    "#Eigendecomposition of the correlation matrix after standardizing the data is the same as well:\n",
    "#cor_mat2 = np.corrcoef(dataframe_name.T)\n",
    "\n",
    "#eig_vals, eig_vecs = np.linalg.eig(cor_mat2)\n",
    "\n",
    "print('Eigenvectors \\n%s' %eig_vecs)\n",
    "print('\\nEigenvalues \\n%s' %eig_vals)\n",
    "\n",
    "#While the eigendecomposition of the covariance or correlation matrix may be more intuitiuve, most PCA implementations perform a Singular Vector Decomposition (SVD) to improve the computational efficiency:\n",
    "u,s,v = np.linalg.svd(train_df_tr_pd.T)\n",
    "u\n",
    "\n",
    "#eigenvectors only define the directions of the new axis, since they have all the same unit length \n",
    "#In order to decide which eigenvector(s) can dropped without losing too much information for the construction of lower-dimensional subspace, we need to inspect the corresponding eigenvalues\n",
    "#eigenvectors with the lowest eigenvalues bear the least information about the distribution of the data\n",
    "#ranking the eigenvalues from highest to lowest in order choose the top k eigenvectors\n",
    "# Make a list of (eigenvalue, eigenvector) tuples\n",
    "eig_pairs = [(np.abs(eig_vals[i]), eig_vecs[:,i]) for i in range(len(eig_vals))]\n",
    "\n",
    "# Sort the (eigenvalue, eigenvector) tuples from high to low\n",
    "eig_pairs.sort()\n",
    "eig_pairs.reverse()\n",
    "\n",
    "# Visually confirm that the list is correctly sorted by decreasing eigenvalues\n",
    "print('Eigenvalues in descending order:')\n",
    "for i in eig_pairs:\n",
    "    print(i[0])"
   ]
  },
  {
   "cell_type": "code",
   "execution_count": 43,
   "metadata": {},
   "outputs": [
    {
     "data": {
      "image/png": "[encoded data removed]",
      "text/plain": [
       "<Figure size 432x288 with 1 Axes>"
      ]
     },
     "metadata": {},
     "output_type": "display_data"
    }
   ],
   "source": [
    "#This we do want to run for the pipeline, to determine ahead of time how many components we want\n",
    "#A scree plot displays the variance explained by each principal component within the analysis\n",
    "#cumulative explained variance ratio as a function of the number of components\n",
    "from sklearn.decomposition import PCA\n",
    "\n",
    "pca = PCA().fit(train_df_tr_pd)\n",
    "plt.plot(np.cumsum(pca.explained_variance_ratio_))\n",
    "plt.xlabel('number of components')\n",
    "plt.ylabel('cumulative explained variance')\n",
    "#fig = plt.figure(figsize = (30, 25))\n",
    "plt.show()"
   ]
  },
  {
   "cell_type": "code",
   "execution_count": 44,
   "metadata": {},
   "outputs": [
    {
     "name": "stdout",
     "output_type": "stream",
     "text": [
      "        pc1       pc2       pc3       pc4       pc5       pc6       pc7\n",
      "0  4.543595  1.792197  0.247389 -1.724945  1.826309 -1.023760 -0.397735\n",
      "1 -2.075251 -0.215641 -0.338978 -0.009745 -0.181949  0.126202  0.078124\n",
      "2 -2.075251 -0.215641 -0.338978 -0.009745 -0.181949  0.126202  0.078124\n",
      "3  3.369214 -1.280069  1.550079  0.482274 -0.526608  2.618206 -0.678145\n",
      "4  2.458236 -1.472648  0.783855 -1.035092 -0.061921 -0.281642  1.274952\n"
     ]
    }
   ],
   "source": [
    "#following dimensionality reduction each principal component doesn't really have a meaning \n",
    "#The new components are just the seven main dimensions of variation based on the above scree plot\n",
    "#We don't need all this for the pipeline, but this is good to see how to run a PCA outside a pipline\n",
    "from sklearn.decomposition import PCA\n",
    "pca = PCA(n_components=7)\n",
    "principalComponents = pca.fit_transform(train_df_tr_pd)\n",
    "principalDf = pd.DataFrame(data = principalComponents, columns = ['pc1', 'pc2', 'pc3', 'pc4', 'pc5', 'pc6', 'pc7'])\n",
    "#Resetting index to avoid issues further down with concat\n",
    "principalDf = principalDf.reset_index(drop=True)\n",
    "print(principalDf.head())"
   ]
  },
  {
   "cell_type": "code",
   "execution_count": 26,
   "metadata": {},
   "outputs": [
    {
     "name": "stdout",
     "output_type": "stream",
     "text": [
      "        pc1       pc2       pc3       pc4       pc5       pc6       pc7  y\n",
      "0  4.543595  1.792197  0.247389 -1.724945  1.826309 -1.023760 -0.397735  4\n",
      "1 -2.075251 -0.215641 -0.338978 -0.009745 -0.181949  0.126202  0.078124  2\n",
      "2 -2.075251 -0.215641 -0.338978 -0.009745 -0.181949  0.126202  0.078124  2\n",
      "3  3.369214 -1.280069  1.550079  0.482274 -0.526608  2.618206 -0.678145  4\n",
      "4  2.458236 -1.472648  0.783855 -1.035092 -0.061921 -0.281642  1.274952  2\n"
     ]
    }
   ],
   "source": [
    "#If you want you can save your components in a new dataframe together with your target\n",
    "#Concatenating DataFrame along axis = 1. \n",
    "#finalDf is the final DataFrame with the PCs\n",
    "#We didn't create a dataframe with just the target yet because we didn't need it for the pipeline\n",
    "#But obviously if you want to concatenate them you need to make one first\n",
    "target_dataframe_name = df1_train_full >> select(X.y)\n",
    "target_dataframe_name = pd.DataFrame(target_dataframe_name)\n",
    "target_dataframe_name = target_dataframe_name.reset_index(drop=True)\n",
    "#Specifying axis = 1 so that it adds the dataframes horizontally\n",
    "final_df = pd.concat([principalDf, target_dataframe_name], axis=1)\n",
    "print(final_df.head())"
   ]
  },
  {
   "cell_type": "code",
   "execution_count": 27,
   "metadata": {},
   "outputs": [
    {
     "data": {
      "text/plain": [
       "<matplotlib.axes._subplots.AxesSubplot at 0x298bcc1d9e8>"
      ]
     },
     "execution_count": 27,
     "metadata": {},
     "output_type": "execute_result"
    },
    {
     "data": {
      "image/png": "[encoded data removed]",
      "text/plain": [
       "<Figure size 1800x720 with 2 Axes>"
      ]
     },
     "metadata": {},
     "output_type": "display_data"
    }
   ],
   "source": [
    "msno.matrix(final_df)"
   ]
  },
  {
   "cell_type": "code",
   "execution_count": 28,
   "metadata": {},
   "outputs": [
    {
     "name": "stdout",
     "output_type": "stream",
     "text": [
      "          0         1         2         3         4         5         6\n",
      "0  4.543595  1.792197  0.247389 -1.724945  1.826309 -1.023760 -0.397735\n",
      "1 -2.075251 -0.215641 -0.338978 -0.009745 -0.181949  0.126202  0.078124\n",
      "2 -2.075251 -0.215641 -0.338978 -0.009745 -0.181949  0.126202  0.078124\n",
      "3  3.369214 -1.280069  1.550079  0.482274 -0.526608  2.618206 -0.678145\n",
      "4  2.458236 -1.472648  0.783855 -1.035092 -0.061921 -0.281642  1.274952\n"
     ]
    }
   ],
   "source": [
    "#######################Playing with K-means with PCAed data####################\n",
    "#To determine how many clusters we want, we need the PCAed data:\n",
    "numeric_pipe = Pipeline([('imputer', SimpleImputer(strategy=\"mean\")),\n",
    "                         ('attribs_adder1', CombinedAttributesAdder1()),\n",
    "                         ('std_scaler', StandardScaler()),\n",
    "                         ('pca', PCA(n_components = 7))])\n",
    "train_df_tr = numeric_pipe.fit_transform(df_train_x)\n",
    "clust_data = pd.DataFrame(train_df_tr)\n",
    "print(clust_data.head())\n",
    "#Finding optimal no. of clusters\n",
    "\n",
    "from sklearn.cluster import KMeans\n",
    "import sklearn.metrics\n",
    " \n",
    "from scipy.spatial.distance import cdist\n",
    "clusters=range(1,10)\n",
    "meanDistortions=[]"
   ]
  },
  {
   "cell_type": "code",
   "execution_count": 29,
   "metadata": {},
   "outputs": [],
   "source": [
    "for k in clusters:\n",
    "    model = KMeans(n_clusters=k)\n",
    "    model.fit(clust_data)\n",
    "    prediction = model.predict(clust_data)\n",
    "    meanDistortions.append(sum(np.min(cdist(clust_data, model.cluster_centers_, 'euclidean'), axis=1)) / clust_data.shape[0])"
   ]
  },
  {
   "cell_type": "code",
   "execution_count": 30,
   "metadata": {},
   "outputs": [
    {
     "data": {
      "text/plain": [
       "Text(0.5,1,'Selecting k with the Elbow Method')"
      ]
     },
     "execution_count": 30,
     "metadata": {},
     "output_type": "execute_result"
    },
    {
     "data": {
      "image/png": "[encoded data removed]",
      "text/plain": [
       "<Figure size 432x288 with 1 Axes>"
      ]
     },
     "metadata": {},
     "output_type": "display_data"
    }
   ],
   "source": [
    "#plt.cla()\n",
    "plt.plot(clusters, meanDistortions, 'bx-')\n",
    "plt.xlabel('k')\n",
    "plt.ylabel('Average distortion')\n",
    "plt.title('Selecting k with the Elbow Method')"
   ]
  },
  {
   "cell_type": "code",
   "execution_count": 31,
   "metadata": {},
   "outputs": [],
   "source": [
    "#actual clustering for 2\n",
    "#add the cluster ID to the original dataset\n",
    "#We probably don't need this for the pipeline, but could be interesting for graphing and exploratory data analysis\n",
    "final_model1 = KMeans(2)\n",
    "final_model1.fit(clust_data)\n",
    "prediction1 = final_model1.predict(clust_data)"
   ]
  },
  {
   "cell_type": "code",
   "execution_count": 32,
   "metadata": {},
   "outputs": [
    {
     "data": {
      "text/html": [
       "<div>\n",
       "<style scoped>\n",
       "    .dataframe tbody tr th:only-of-type {\n",
       "        vertical-align: middle;\n",
       "    }\n",
       "\n",
       "    .dataframe tbody tr th {\n",
       "        vertical-align: top;\n",
       "    }\n",
       "\n",
       "    .dataframe thead th {\n",
       "        text-align: right;\n",
       "    }\n",
       "</style>\n",
       "<table border=\"1\" class=\"dataframe\">\n",
       "  <thead>\n",
       "    <tr style=\"text-align: right;\">\n",
       "      <th></th>\n",
       "      <th>x1</th>\n",
       "      <th>x2</th>\n",
       "      <th>x3</th>\n",
       "      <th>x4</th>\n",
       "      <th>x5</th>\n",
       "      <th>x6</th>\n",
       "      <th>x7</th>\n",
       "      <th>x8</th>\n",
       "      <th>x9</th>\n",
       "      <th>y</th>\n",
       "      <th>GROUP</th>\n",
       "    </tr>\n",
       "  </thead>\n",
       "  <tbody>\n",
       "    <tr>\n",
       "      <th>353</th>\n",
       "      <td>2</td>\n",
       "      <td>7</td>\n",
       "      <td>10</td>\n",
       "      <td>10</td>\n",
       "      <td>7</td>\n",
       "      <td>10</td>\n",
       "      <td>4</td>\n",
       "      <td>9</td>\n",
       "      <td>4</td>\n",
       "      <td>4</td>\n",
       "      <td>0</td>\n",
       "    </tr>\n",
       "    <tr>\n",
       "      <th>649</th>\n",
       "      <td>3</td>\n",
       "      <td>1</td>\n",
       "      <td>1</td>\n",
       "      <td>1</td>\n",
       "      <td>2</td>\n",
       "      <td>1</td>\n",
       "      <td>2</td>\n",
       "      <td>1</td>\n",
       "      <td>1</td>\n",
       "      <td>2</td>\n",
       "      <td>1</td>\n",
       "    </tr>\n",
       "    <tr>\n",
       "      <th>600</th>\n",
       "      <td>3</td>\n",
       "      <td>1</td>\n",
       "      <td>1</td>\n",
       "      <td>1</td>\n",
       "      <td>2</td>\n",
       "      <td>1</td>\n",
       "      <td>2</td>\n",
       "      <td>1</td>\n",
       "      <td>1</td>\n",
       "      <td>2</td>\n",
       "      <td>1</td>\n",
       "    </tr>\n",
       "    <tr>\n",
       "      <th>201</th>\n",
       "      <td>10</td>\n",
       "      <td>8</td>\n",
       "      <td>8</td>\n",
       "      <td>4</td>\n",
       "      <td>10</td>\n",
       "      <td>10</td>\n",
       "      <td>8</td>\n",
       "      <td>1</td>\n",
       "      <td>1</td>\n",
       "      <td>4</td>\n",
       "      <td>0</td>\n",
       "    </tr>\n",
       "    <tr>\n",
       "      <th>40</th>\n",
       "      <td>6</td>\n",
       "      <td>6</td>\n",
       "      <td>6</td>\n",
       "      <td>9</td>\n",
       "      <td>6</td>\n",
       "      <td>?</td>\n",
       "      <td>7</td>\n",
       "      <td>8</td>\n",
       "      <td>1</td>\n",
       "      <td>2</td>\n",
       "      <td>0</td>\n",
       "    </tr>\n",
       "  </tbody>\n",
       "</table>\n",
       "</div>"
      ],
      "text/plain": [
       "     x1  x2  x3  x4  x5  x6  x7  x8  x9  y  GROUP\n",
       "353   2   7  10  10   7  10   4   9   4  4      0\n",
       "649   3   1   1   1   2   1   2   1   1  2      1\n",
       "600   3   1   1   1   2   1   2   1   1  2      1\n",
       "201  10   8   8   4  10  10   8   1   1  4      0\n",
       "40    6   6   6   9   6   ?   7   8   1  2      0"
      ]
     },
     "execution_count": 32,
     "metadata": {},
     "output_type": "execute_result"
    }
   ],
   "source": [
    "final_df_train1 = df1_train_full >> drop(X.ID)\n",
    "final_df_train1[\"GROUP\"] = prediction1\n",
    "\n",
    "\n",
    "final_df_train1.head()"
   ]
  },
  {
   "cell_type": "code",
   "execution_count": 33,
   "metadata": {},
   "outputs": [
    {
     "name": "stdout",
     "output_type": "stream",
     "text": [
      "Groups Assigned : \n",
      "\n",
      "     x1  x2  x3  x4  x5  x6  x7  x8  x9  y  GROUP\n",
      "353   2   7  10  10   7  10   4   9   4  4      0\n",
      "649   3   1   1   1   2   1   2   1   1  2      1\n",
      "600   3   1   1   1   2   1   2   1   1  2      1\n",
      "201  10   8   8   4  10  10   8   1   1  4      0\n",
      "40    6   6   6   9   6   ?   7   8   1  2      0\n",
      "323   5   4   6  10   2  10   4   1   1  4      0\n",
      "587   5   1   1   1   2   1   2   2   1  2      1\n",
      "38    5   4   4   9   2  10   5   6   1  4      0\n",
      "402   5   3   3   1   2   1   2   1   1  2      1\n",
      "213  10  10  10  10   7  10   7  10   4  4      0\n"
     ]
    },
    {
     "data": {
      "text/plain": [
       "array([[<matplotlib.axes._subplots.AxesSubplot object at 0x00000298BCF46CF8>,\n",
       "        <matplotlib.axes._subplots.AxesSubplot object at 0x00000298BDA15F98>,\n",
       "        <matplotlib.axes._subplots.AxesSubplot object at 0x00000298BCF5EEF0>],\n",
       "       [<matplotlib.axes._subplots.AxesSubplot object at 0x00000298BDC16320>,\n",
       "        <matplotlib.axes._subplots.AxesSubplot object at 0x00000298BDC3D710>,\n",
       "        <matplotlib.axes._subplots.AxesSubplot object at 0x00000298BDC3D748>],\n",
       "       [<matplotlib.axes._subplots.AxesSubplot object at 0x00000298BDCF2EF0>,\n",
       "        <matplotlib.axes._subplots.AxesSubplot object at 0x00000298BDD24320>,\n",
       "        <matplotlib.axes._subplots.AxesSubplot object at 0x00000298BDD4C710>]],\n",
       "      dtype=object)"
      ]
     },
     "execution_count": 33,
     "metadata": {},
     "output_type": "execute_result"
    },
    {
     "data": {
      "image/png": "[encoded data removed]",
      "text/plain": [
       "<Figure size 1440x2160 with 9 Axes>"
      ]
     },
     "metadata": {},
     "output_type": "display_data"
    }
   ],
   "source": [
    "#Join predicted clusters to dataframe\n",
    "final_df_train1 = df1_train_full >> drop(X.ID)\n",
    "final_df_train1[\"GROUP\"] = prediction1\n",
    "print(\"Groups Assigned : \\n\")\n",
    "print(final_df_train1.head(10))\n",
    "\n",
    "#set of boxplots to see how the groups differ for various feature attributes\n",
    "import matplotlib.pyplot as plt\n",
    "\n",
    "final_df_train1.boxplot(by=\"GROUP\", figsize=(20,30))"
   ]
  },
  {
   "cell_type": "code",
   "execution_count": 34,
   "metadata": {},
   "outputs": [
    {
     "data": {
      "text/plain": [
       "<matplotlib.axes._subplots.AxesSubplot at 0x298befdeac8>"
      ]
     },
     "execution_count": 34,
     "metadata": {},
     "output_type": "execute_result"
    },
    {
     "data": {
      "image/png": "[encoded data removed]",
      "text/plain": [
       "<Figure size 1800x720 with 2 Axes>"
      ]
     },
     "metadata": {},
     "output_type": "display_data"
    }
   ],
   "source": [
    "msno.matrix(final_df_train1)"
   ]
  },
  {
   "cell_type": "code",
   "execution_count": 35,
   "metadata": {},
   "outputs": [
    {
     "data": {
      "text/html": [
       "<div>\n",
       "<style scoped>\n",
       "    .dataframe tbody tr th:only-of-type {\n",
       "        vertical-align: middle;\n",
       "    }\n",
       "\n",
       "    .dataframe tbody tr th {\n",
       "        vertical-align: top;\n",
       "    }\n",
       "\n",
       "    .dataframe thead th {\n",
       "        text-align: right;\n",
       "    }\n",
       "</style>\n",
       "<table border=\"1\" class=\"dataframe\">\n",
       "  <thead>\n",
       "    <tr style=\"text-align: right;\">\n",
       "      <th></th>\n",
       "      <th>0</th>\n",
       "      <th>1</th>\n",
       "    </tr>\n",
       "  </thead>\n",
       "  <tbody>\n",
       "    <tr>\n",
       "      <th>0</th>\n",
       "      <td>3.660524</td>\n",
       "      <td>7.044206</td>\n",
       "    </tr>\n",
       "    <tr>\n",
       "      <th>1</th>\n",
       "      <td>5.215423</td>\n",
       "      <td>0.590033</td>\n",
       "    </tr>\n",
       "    <tr>\n",
       "      <th>2</th>\n",
       "      <td>5.215423</td>\n",
       "      <td>0.590033</td>\n",
       "    </tr>\n",
       "    <tr>\n",
       "      <th>3</th>\n",
       "      <td>3.362656</td>\n",
       "      <td>6.167650</td>\n",
       "    </tr>\n",
       "    <tr>\n",
       "      <th>4</th>\n",
       "      <td>2.357878</td>\n",
       "      <td>4.817431</td>\n",
       "    </tr>\n",
       "  </tbody>\n",
       "</table>\n",
       "</div>"
      ],
      "text/plain": [
       "          0         1\n",
       "0  3.660524  7.044206\n",
       "1  5.215423  0.590033\n",
       "2  5.215423  0.590033\n",
       "3  3.362656  6.167650\n",
       "4  2.357878  4.817431"
      ]
     },
     "execution_count": 35,
     "metadata": {},
     "output_type": "execute_result"
    }
   ],
   "source": [
    "#If we run the pipeline now as is the output will be two columns with each point's relation to each of the k points\n",
    "numeric_pipe = Pipeline([('imputer', SimpleImputer(strategy=\"mean\")),\n",
    "                         ('attribs_adder1', CombinedAttributesAdder1()),\n",
    "                         ('std_scaler', StandardScaler()),\n",
    "                         ('pca', PCA(n_components = 7)),\n",
    "                         ('kmean', KMeans(n_clusters = 2))])\n",
    "train_df_tr = numeric_pipe.fit_transform(df_train_x)\n",
    "train_df_tr_pd = pd.DataFrame(train_df_tr)\n",
    "train_df_tr_pd.head()\n"
   ]
  },
  {
   "cell_type": "code",
   "execution_count": 36,
   "metadata": {},
   "outputs": [],
   "source": [
    "#If we want a single column as an output we need to transform the data\n",
    "#For this I create a custom transformer:\n",
    "from sklearn.base import BaseEstimator, TransformerMixin\n",
    "\n",
    "k1_ix, k2_ix = 0, 1\n",
    "\n",
    "class CombinedAttributesAdder2(BaseEstimator, TransformerMixin):\n",
    "    def __init__(self, add_create_groups = True): # no *args or **kargs\n",
    "        self.add_create_groups = add_create_groups\n",
    "    def fit(self, X, y=None):\n",
    "        return self # nothing else to do\n",
    "    def transform(self, X, y=None):\n",
    "        group = X[:, k1_ix] - X[:, k2_ix]\n",
    "        lambda_group = lambda x: 0 if x > 0 else 1 #using .apply and then a lambda doesn't work with np arrays, only pandas dataframes\n",
    "        vlambda = np.vectorize(lambda_group) #this is a good substitute to the .apply\n",
    "    \n",
    "        if self.add_create_groups:\n",
    "            group = vlambda(group)\n",
    "            return np.c_[group]\n",
    "        else:\n",
    "            return np.c_[X]\n",
    "        \n",
    "attr_adder2 = CombinedAttributesAdder2(add_create_groups=False)"
   ]
  },
  {
   "cell_type": "code",
   "execution_count": 37,
   "metadata": {},
   "outputs": [
    {
     "data": {
      "text/html": [
       "<div>\n",
       "<style scoped>\n",
       "    .dataframe tbody tr th:only-of-type {\n",
       "        vertical-align: middle;\n",
       "    }\n",
       "\n",
       "    .dataframe tbody tr th {\n",
       "        vertical-align: top;\n",
       "    }\n",
       "\n",
       "    .dataframe thead th {\n",
       "        text-align: right;\n",
       "    }\n",
       "</style>\n",
       "<table border=\"1\" class=\"dataframe\">\n",
       "  <thead>\n",
       "    <tr style=\"text-align: right;\">\n",
       "      <th></th>\n",
       "      <th>0</th>\n",
       "    </tr>\n",
       "  </thead>\n",
       "  <tbody>\n",
       "    <tr>\n",
       "      <th>0</th>\n",
       "      <td>0</td>\n",
       "    </tr>\n",
       "    <tr>\n",
       "      <th>1</th>\n",
       "      <td>1</td>\n",
       "    </tr>\n",
       "    <tr>\n",
       "      <th>2</th>\n",
       "      <td>1</td>\n",
       "    </tr>\n",
       "    <tr>\n",
       "      <th>3</th>\n",
       "      <td>0</td>\n",
       "    </tr>\n",
       "    <tr>\n",
       "      <th>4</th>\n",
       "      <td>0</td>\n",
       "    </tr>\n",
       "    <tr>\n",
       "      <th>5</th>\n",
       "      <td>0</td>\n",
       "    </tr>\n",
       "    <tr>\n",
       "      <th>6</th>\n",
       "      <td>1</td>\n",
       "    </tr>\n",
       "    <tr>\n",
       "      <th>7</th>\n",
       "      <td>0</td>\n",
       "    </tr>\n",
       "    <tr>\n",
       "      <th>8</th>\n",
       "      <td>1</td>\n",
       "    </tr>\n",
       "    <tr>\n",
       "      <th>9</th>\n",
       "      <td>0</td>\n",
       "    </tr>\n",
       "  </tbody>\n",
       "</table>\n",
       "</div>"
      ],
      "text/plain": [
       "   0\n",
       "0  0\n",
       "1  1\n",
       "2  1\n",
       "3  0\n",
       "4  0\n",
       "5  0\n",
       "6  1\n",
       "7  0\n",
       "8  1\n",
       "9  0"
      ]
     },
     "execution_count": 37,
     "metadata": {},
     "output_type": "execute_result"
    }
   ],
   "source": [
    "#If we run the pipeline with what we have now:\n",
    "#The final pipline:\n",
    "numeric_pipe = Pipeline([('imputer', SimpleImputer(strategy=\"mean\")),\n",
    "                         ('attribs_adder1', CombinedAttributesAdder1()),\n",
    "                         ('std_scaler', StandardScaler()),\n",
    "                         ('pca', PCA(n_components = 7)),\n",
    "                         ('kmean', KMeans(n_clusters = 2)),\n",
    "                         ('attribs_adder2', CombinedAttributesAdder2())])\n",
    "train_df_tr = numeric_pipe.fit_transform(df_train_x)\n",
    "train_df_tr_pd = pd.DataFrame(train_df_tr)\n",
    "train_df_tr_pd.head(10)\n",
    "#We get instead of one column with groups two columns with the values associated with each k, so we want to transform that\n",
    "#We can do that with another custom transformer"
   ]
  }
 ],
 "metadata": {
  "kernelspec": {
   "display_name": "Python 3",
   "language": "python",
   "name": "python3"
  },
  "language_info": {
   "codemirror_mode": {
    "name": "ipython",
    "version": 3
   },
   "file_extension": ".py",
   "mimetype": "text/x-python",
   "name": "python",
   "nbconvert_exporter": "python",
   "pygments_lexer": "ipython3",
   "version": "3.6.5"
  }
 },
 "nbformat": 4,
 "nbformat_minor": 2
}
